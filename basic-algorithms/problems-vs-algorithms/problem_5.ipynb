{
 "cells": [
  {
   "cell_type": "markdown",
   "metadata": {},
   "source": [
    "# Building a Trie in Python\n",
    "\n",
    "Before we start let us reiterate the key components of a Trie or Prefix Tree. A trie is a tree-like data structure that stores a dynamic set of strings. Tries are commonly used to facilitate operations like predictive text or autocomplete features on mobile phones or web search.\n",
    "\n",
    "Before we move into the autocomplete function we need to create a working trie for storing strings.  We will create two classes:\n",
    "* A `Trie` class that contains the root node (empty string)\n",
    "* A `TrieNode` class that exposes the general functionality of the Trie, like inserting a word or finding the node which represents a prefix.\n",
    "\n",
    "Give it a try by implementing the `TrieNode` and `Trie` classes below!"
   ]
  },
  {
   "cell_type": "code",
   "execution_count": 18,
   "metadata": {
    "collapsed": true
   },
   "outputs": [],
   "source": [
    "## Represents a single node in the Trie\n",
    "class TrieNode:\n",
    "    def __init__(self) -> None:\n",
    "        ## Initialize this node in the Trie\n",
    "        self.is_word = False\n",
    "        self.children = {}\n",
    "    \n",
    "    def insert(self, char: str) -> None:\n",
    "        ## Add a child node in this Trie\n",
    "        self.children[char] = TrieNode()\n",
    "    \n",
    "    def suffixes(self, suffix: str = '') -> list[str]:\n",
    "        ## Recursive function that collects the suffix for \n",
    "        ## all complete words below this point\n",
    "        suffixes_list = []\n",
    "        if self.is_word:\n",
    "            suffixes_list.append(suffix)\n",
    "        for char, child in self.children.items():\n",
    "            suffixes_list.extend(child.suffixes(suffix + char))\n",
    "        return suffixes_list\n",
    "\n",
    "\n",
    "## The Trie itself containing the root node and insert/find functions\n",
    "class Trie:\n",
    "    def __init__(self) -> None:\n",
    "        ## Initialize this Trie (add a root node)\n",
    "        self.root = TrieNode()\n",
    "\n",
    "    def insert(self, word: str) -> None:\n",
    "        ## Add a word to the Trie\n",
    "        current = self.root\n",
    "        for char in word:\n",
    "            if char not in current.children:\n",
    "                current.insert(char)\n",
    "            current = current.children[char]\n",
    "        current.is_word = True\n",
    "\n",
    "    def find(self, prefix: str) -> TrieNode | None:\n",
    "        ## Find the Trie node that represents this prefix\n",
    "\n",
    "        # Validate the prefix inout is a string\n",
    "        if not isinstance(prefix, str):\n",
    "            raise TypeError('prefix must be of type string')\n",
    "\n",
    "        current = self.root\n",
    "        if not prefix:\n",
    "            return None\n",
    "        for char in prefix:\n",
    "            if char not in current.children:\n",
    "                return None\n",
    "            current = current.children[char]\n",
    "        return current"
   ]
  },
  {
   "cell_type": "markdown",
   "metadata": {},
   "source": [
    "# Finding Suffixes\n",
    "\n",
    "Now that we have a functioning Trie, we need to add the ability to list suffixes to implement our autocomplete feature.  To do that, we need to implement a new function on the `TrieNode` object that will return all complete word suffixes that exist below it in the trie.  For example, if our Trie contains the words `[\"fun\", \"function\", \"factory\"]` and we ask for suffixes from the `f` node, we would expect to receive `[\"un\", \"unction\", \"actory\"]` back from `node.suffixes()`.\n",
    "\n",
    "Using the code you wrote for the `TrieNode` above, try to add the suffixes function below. (Hint: recurse down the trie, collecting suffixes as you go.)"
   ]
  },
  {
   "cell_type": "code",
   "execution_count": 13,
   "metadata": {
    "collapsed": true
   },
   "outputs": [],
   "source": [
    "class TrieNode:\n",
    "    def __init__(self) -> None:\n",
    "        ## Initialize this node in the Trie\n",
    "        self.is_word = False\n",
    "        self.children = {}\n",
    "    \n",
    "    def insert(self, char: str) -> None:\n",
    "        ## Add a child node in this Trie\n",
    "        self.children[char] = TrieNode()\n",
    "        \n",
    "    def suffixes(self, suffix: str = '') -> list[str]:\n",
    "        ## Recursive function that collects the suffix for \n",
    "        ## all complete words below this point\n",
    "        suffixes_list = []\n",
    "        if self.is_word:\n",
    "            suffixes_list.append(suffix)\n",
    "        for char, child in self.children.items():\n",
    "            suffixes_list.extend(child.suffixes(suffix + char))\n",
    "        return suffixes_list"
   ]
  },
  {
   "cell_type": "markdown",
   "metadata": {},
   "source": [
    "# Testing it all out\n",
    "\n",
    "Run the following code to add some words to your trie and then use the interactive search box to see what your code returns."
   ]
  },
  {
   "cell_type": "code",
   "execution_count": 19,
   "metadata": {
    "collapsed": true
   },
   "outputs": [],
   "source": [
    "MyTrie = Trie()\n",
    "wordList = [\n",
    "    \"ant\", \"anthology\", \"antagonist\", \"antonym\", \n",
    "    \"fun\", \"function\", \"factory\", \n",
    "    \"trie\", \"trigger\", \"trigonometry\", \"tripod\"\n",
    "]\n",
    "for word in wordList:\n",
    "    MyTrie.insert(word)"
   ]
  },
  {
   "cell_type": "code",
   "execution_count": null,
   "metadata": {
    "collapsed": true
   },
   "outputs": [],
   "source": [
    "from ipywidgets import widgets\n",
    "from IPython.display import display\n",
    "from ipywidgets import interact\n",
    "\n",
    "def f(prefix: str) -> None:\n",
    "    if prefix != '':\n",
    "        prefixNode = MyTrie.find(prefix)\n",
    "        if prefixNode:\n",
    "            print('\\n'.join(prefixNode.suffixes()))\n",
    "        else:\n",
    "            print(prefix + \" not found\")\n",
    "    else:\n",
    "        print('')\n",
    "        \n",
    "interact(f, prefix='')"
   ]
  },
  {
   "cell_type": "code",
   "execution_count": null,
   "metadata": {},
   "outputs": [
    {
     "name": "stdout",
     "output_type": "stream",
     "text": [
      "None\n"
     ]
    }
   ],
   "source": [
    "# Normal case: Word is not present, but matches present word other than last letter\n",
    "prefixNode = MyTrie.find(\"ants\")\n",
    "print('\\n'.join(prefixNode.suffixes())) if prefixNode else print(prefixNode)\n",
    "# Expected output: None"
   ]
  },
  {
   "cell_type": "code",
   "execution_count": null,
   "metadata": {},
   "outputs": [],
   "source": [
    "# Edge case: Empty string\n",
    "prefixNode = MyTrie.find(\"\")\n",
    "print('\\n'.join(prefixNode.suffixes())) if prefixNode else print(prefixNode)\n",
    "# Expected output: None"
   ]
  },
  {
   "cell_type": "code",
   "execution_count": 5,
   "metadata": {},
   "outputs": [
    {
     "name": "stdout",
     "output_type": "stream",
     "text": [
      "\n",
      "hology\n",
      "agonist\n",
      "onym\n"
     ]
    }
   ],
   "source": [
    "# Normal case: Word present in the Trie\n",
    "prefixNode = MyTrie.find(\"ant\")\n",
    "print('\\n'.join(prefixNode.suffixes())) if prefixNode else print(prefixNode)\n",
    "# Expected output: True"
   ]
  },
  {
   "cell_type": "code",
   "execution_count": 6,
   "metadata": {},
   "outputs": [
    {
     "name": "stdout",
     "output_type": "stream",
     "text": [
      "\n"
     ]
    }
   ],
   "source": [
    "# Normal case: Word present in the Trie\n",
    "prefixNode = MyTrie.find(\"function\")\n",
    "print('\\n'.join(prefixNode.suffixes())) if prefixNode else print(prefixNode)\n",
    "# Expected output: True"
   ]
  },
  {
   "cell_type": "code",
   "execution_count": 7,
   "metadata": {},
   "outputs": [
    {
     "name": "stdout",
     "output_type": "stream",
     "text": [
      "\n",
      "ction\n"
     ]
    }
   ],
   "source": [
    "# Normal case: Prefix of a word present in the Trie\n",
    "prefixNode = MyTrie.find(\"fun\")\n",
    "print('\\n'.join(prefixNode.suffixes())) if prefixNode else print(prefixNode)\n",
    "# Expected output: True"
   ]
  },
  {
   "cell_type": "code",
   "execution_count": 9,
   "metadata": {},
   "outputs": [
    {
     "name": "stdout",
     "output_type": "stream",
     "text": [
      "None\n"
     ]
    }
   ],
   "source": [
    "# Normal case: Prefix of a word NOT present in the Trie\n",
    "prefixNode = MyTrie.find(\"blah\")\n",
    "print('\\n'.join(prefixNode.suffixes())) if prefixNode else print(prefixNode)\n",
    "# Expected output: None"
   ]
  },
  {
   "cell_type": "code",
   "execution_count": null,
   "metadata": {},
   "outputs": [
    {
     "name": "stdout",
     "output_type": "stream",
     "text": [
      "Failed with TypeError - prefix must be of type string\n",
      "Failed with TypeError - prefix must be of type string\n"
     ]
    }
   ],
   "source": [
    "# Edge case: Prefix input is a None, or a number, which should raise a TypeError\n",
    "err_val = [\n",
    "    None,\n",
    "    100\n",
    "]\n",
    "for edge_case in err_val:\n",
    "    try:\n",
    "        prefixNode = MyTrie.find(100)\n",
    "        print('\\n'.join(prefixNode.suffixes())) if prefixNode else print(prefixNode)\n",
    "    except TypeError as e:\n",
    "        print(f\"Failed with TypeError - {e}\")\n",
    "    # Expected output: Failed with TypeError - prefix must be of type string"
   ]
  }
 ],
 "metadata": {
  "kernelspec": {
   "display_name": "cc-test",
   "language": "python",
   "name": "python3"
  },
  "language_info": {
   "codemirror_mode": {
    "name": "ipython",
    "version": 3
   },
   "file_extension": ".py",
   "mimetype": "text/x-python",
   "name": "python",
   "nbconvert_exporter": "python",
   "pygments_lexer": "ipython3",
   "version": "3.13.5"
  },
  "widgets": {
   "state": {},
   "version": "1.1.2"
  }
 },
 "nbformat": 4,
 "nbformat_minor": 2
}
